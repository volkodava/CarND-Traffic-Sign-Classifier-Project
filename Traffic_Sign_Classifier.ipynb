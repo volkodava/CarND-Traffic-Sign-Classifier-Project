{
 "cells": [
  {
   "cell_type": "markdown",
   "metadata": {},
   "source": [
    "# Self-Driving Car Engineer Nanodegree\n",
    "\n",
    "## Deep Learning\n",
    "\n",
    "## Project: Build a Traffic Sign Recognition Classifier\n",
    "\n",
    "In this notebook, a template is provided for you to implement your functionality in stages, which is required to successfully complete this project. If additional code is required that cannot be included in the notebook, be sure that the Python code is successfully imported and included in your submission if necessary. \n",
    "\n",
    "> **Note**: Once you have completed all of the code implementations, you need to finalize your work by exporting the iPython Notebook as an HTML document. Before exporting the notebook to html, all of the code cells need to have been run so that reviewers can see the final implementation and output. You can then export the notebook by using the menu above and navigating to  \\n\",\n",
    "    \"**File -> Download as -> HTML (.html)**. Include the finished document along with this notebook as your submission. \n",
    "\n",
    "In addition to implementing code, there is a writeup to complete. The writeup should be completed in a separate file, which can be either a markdown file or a pdf document. There is a [write up template](https://github.com/udacity/CarND-Traffic-Sign-Classifier-Project/blob/master/writeup_template.md) that can be used to guide the writing process. Completing the code template and writeup template will cover all of the [rubric points](https://review.udacity.com/#!/rubrics/481/view) for this project.\n",
    "\n",
    "The [rubric](https://review.udacity.com/#!/rubrics/481/view) contains \"Stand Out Suggestions\" for enhancing the project beyond the minimum requirements. The stand out suggestions are optional. If you decide to pursue the \"stand out suggestions\", you can include the code in this Ipython notebook and also discuss the results in the writeup file.\n",
    "\n",
    "\n",
    ">**Note:** Code and Markdown cells can be executed using the **Shift + Enter** keyboard shortcut. In addition, Markdown cells can be edited by typically double-clicking the cell to enter edit mode."
   ]
  },
  {
   "cell_type": "markdown",
   "metadata": {},
   "source": [
    "---\n",
    "## Step 0: Load The Data"
   ]
  },
  {
   "cell_type": "code",
   "execution_count": null,
   "metadata": {},
   "outputs": [],
   "source": [
    "import csv\n",
    "import glob\n",
    "import os\n",
    "import pickle\n",
    "import sys\n",
    "import warnings\n",
    "import zipfile\n",
    "from functools import partial\n",
    "from os.path import basename\n",
    "from urllib.request import urlretrieve\n",
    "\n",
    "import cv2\n",
    "import matplotlib.pyplot as plt\n",
    "import numpy as np\n",
    "import tensorflow as tf\n",
    "from keras.preprocessing.image import ImageDataGenerator\n",
    "from skimage import exposure\n",
    "from sklearn.metrics import confusion_matrix\n",
    "from sklearn.utils import shuffle\n",
    "from tensorflow.contrib.layers import flatten\n",
    "from tqdm import tqdm\n",
    "# Visualizations will be shown in the notebook.\n",
    "%matplotlib inline\n",
    "\n",
    "\n",
    "def download_file(url, filepath):\n",
    "    def reporthook(blocknum, blocksize, totalsize):\n",
    "        readsofar = blocknum * blocksize\n",
    "        if totalsize > 0:\n",
    "            percent = readsofar * 1e2 / totalsize\n",
    "            s = \"\\r%5.1f%% %*d / %d\" % (\n",
    "                percent, len(str(totalsize)), readsofar, totalsize)\n",
    "            sys.stderr.write(s)\n",
    "            if readsofar >= totalsize:\n",
    "                sys.stderr.write(\"\\n\")\n",
    "        else:\n",
    "            sys.stderr.write(\"read %d\\n\" % (readsofar,))\n",
    "\n",
    "    print(\"Download %s to %s\" % (url, filepath))\n",
    "    if not os.path.exists(filepath):\n",
    "        urlretrieve(url, filepath, reporthook)\n",
    "    print(\"Done\")\n",
    "\n",
    "\n",
    "def unzip(filepath, output_dir):\n",
    "    with zipfile.ZipFile(filepath) as z:\n",
    "        print(\"Unzip %s to %s\" % (filepath, output_dir))\n",
    "        for filename in z.namelist():\n",
    "            if not os.path.exists(os.path.join(output_dir, filename)):\n",
    "                print(\"Extract %s\" % filename)\n",
    "                z.extract(filename, output_dir)\n",
    "                print(\"Done\")\n",
    "\n",
    "        z.extractall(output_dir)\n",
    "        print(\"Done\")\n",
    "\n",
    "\n",
    "def get_input_files(dataset_url, output_directory):\n",
    "    res = {}\n",
    "    dataset_filename = dataset_url.rsplit('/', 1)[-1]\n",
    "    filepath = os.path.join(output_directory, dataset_filename)\n",
    "\n",
    "    download_file(dataset_url, filepath)\n",
    "    unzip(filepath, output_directory)\n",
    "\n",
    "    for input_file in glob.glob(os.path.join(output_directory, '*.p')):\n",
    "        filename = \".\".join(basename(input_file).split(\".\")[:-1])\n",
    "        res[filename] = input_file\n",
    "\n",
    "    return res\n",
    "\n",
    "\n",
    "def read_csv(filepath, skip_header=True):\n",
    "    res = {}\n",
    "    if not os.path.exists(filepath):\n",
    "        return res\n",
    "\n",
    "    with open(filepath, mode='r') as infile:\n",
    "        reader = csv.reader(infile)\n",
    "        is_header = True\n",
    "        for row in reader:\n",
    "            if is_header and skip_header:\n",
    "                is_header = False\n",
    "                continue\n",
    "            dkey, dvalue = row\n",
    "            res[int(dkey)] = dvalue\n",
    "\n",
    "        return res\n",
    "\n",
    "\n",
    "def save_obj(obj, outfile):\n",
    "    # np.save(outfile, obj)\n",
    "    with open(outfile, 'wb') as f:\n",
    "        pickle.dump(obj, f, protocol=pickle.HIGHEST_PROTOCOL)\n",
    "\n",
    "\n",
    "def load_obj(outfile):\n",
    "    # return np.load(outfile)\n",
    "    res = None\n",
    "    with open(outfile, 'rb') as f:\n",
    "        res = pickle.load(f)\n",
    "    return res\n",
    "\n",
    "\n",
    "def copy_array(arr):\n",
    "    copy_arr = np.empty_like(arr)\n",
    "    copy_arr[:] = arr\n",
    "    return copy_arr\n",
    "\n",
    "\n",
    "def read_image(path):\n",
    "    bgr_image = cv2.imread(path)\n",
    "\n",
    "    if len(bgr_image.shape) > 2 and bgr_image.shape[2] == 4:\n",
    "        # remove 4th channel\n",
    "        return cv2.cvtColor(bgr_image, cv2.COLOR_BGRA2BGR)\n",
    "    return cv2.cvtColor(bgr_image, cv2.COLOR_BGR2RGB)\n",
    "\n",
    "\n",
    "def resize_image(image, shape=(32, 32)):\n",
    "    return cv2.resize(image, shape)\n",
    "\n",
    "\n",
    "def plot_train_results(results, filepath=None):\n",
    "    plt.figure(figsize=(8, 8))\n",
    "    for result in results:\n",
    "        label, (epochs, accuracy) = result\n",
    "        plt.plot(epochs, accuracy, label=label)\n",
    "\n",
    "    plt.title('Results')\n",
    "    plt.ylabel('Accuracy')\n",
    "    plt.xlabel('Epochs')\n",
    "    plt.legend(loc='lower right')\n",
    "    if filepath is not None:\n",
    "        plt.savefig(filepath, bbox_inches='tight')\n",
    "\n",
    "    plt.tight_layout()\n",
    "    plt.show()\n",
    "\n",
    "\n",
    "def show_distribution(classes, n_classes, title, filepath=None):\n",
    "    plt.figure(figsize=(6, 3))\n",
    "    plt.title('Distribution for {}'.format(title))\n",
    "    plt.hist(classes, bins=n_classes)\n",
    "    if filepath is not None:\n",
    "        plt.savefig(filepath, bbox_inches='tight')\n",
    "\n",
    "    plt.tight_layout()\n",
    "    plt.show()\n",
    "\n",
    "\n",
    "def plot_features(features, classes=None, cols=None, squeeze=True, title=None, filepath=None):\n",
    "    if squeeze:\n",
    "        features = features.squeeze()\n",
    "\n",
    "    if cols is None:\n",
    "        cols = len(features)\n",
    "\n",
    "    rows = len(features) // cols\n",
    "    fig, axs = plt.subplots(rows, cols, figsize=(cols * 3, rows * 3))\n",
    "    fig.subplots_adjust(top=0.8)\n",
    "\n",
    "    if cols == rows == 1:\n",
    "        axs = [axs]\n",
    "    else:\n",
    "        axs = axs.ravel()\n",
    "\n",
    "    for row in range(rows):\n",
    "        for col in range(cols):\n",
    "            index = col + row * cols\n",
    "            feature = features[index]\n",
    "            axs[index].axis('off')\n",
    "            if len(feature.shape) == 2:\n",
    "                axs[index].imshow(feature, cmap=\"gray\")\n",
    "            else:\n",
    "                axs[index].imshow(feature)\n",
    "\n",
    "            if classes is not None:\n",
    "                axs[index].set_title(classes[index])\n",
    "    if title is not None:\n",
    "        plt.suptitle(title, fontsize=12)\n",
    "\n",
    "    if filepath is not None:\n",
    "        plt.savefig(filepath, bbox_inches='tight')\n",
    "\n",
    "    plt.tight_layout()\n",
    "    plt.show()\n",
    "\n",
    "\n",
    "def filter_by_class_id(features, classes, class_id):\n",
    "    class_indexes = np.where(classes == class_id)[0]\n",
    "    return features[class_indexes], classes[class_indexes]\n",
    "\n",
    "\n",
    "def select_random_features(features, classes, size, class_id=None):\n",
    "    in_features = features\n",
    "    in_classes = classes\n",
    "\n",
    "    if class_id is not None:\n",
    "        in_features, in_classes = filter_by_class_id(features, classes, class_id)\n",
    "\n",
    "    indices = np.random.choice(len(in_features), size=size, replace=False)\n",
    "    return in_features[indices], in_classes[indices]\n",
    "\n",
    "\n",
    "def select_first_n_features(features, classes, size, class_id=None):\n",
    "    in_features = features\n",
    "    in_classes = classes\n",
    "\n",
    "    if class_id is not None:\n",
    "        in_features, in_classes = filter_by_class_id(features, classes, class_id)\n",
    "\n",
    "    indices = range(size)\n",
    "    return in_features[indices], in_classes[indices]\n",
    "\n",
    "\n",
    "def plot_first_n_features(features, labels, feature_class_id, features_size=10, title=None):\n",
    "    if title is None:\n",
    "        title = \"{} - {}\".format(feature_class_id, classes_catalog[feature_class_id])\n",
    "    features_res, classes_res = select_first_n_features(features, labels, size=features_size,\n",
    "                                                        class_id=feature_class_id)\n",
    "    plot_features(features_res, classes_res, cols=features_size, title=title)\n",
    "\n",
    "\n",
    "def plot_random_n_features(features, labels, rnd_features_size=10, rnd_classes_size=5):\n",
    "    for idx in range(rnd_classes_size):\n",
    "        feature_class_id = unique_classes[idx]\n",
    "        title = \"{} - {}\".format(feature_class_id, classes_catalog[feature_class_id])\n",
    "        features_res, classes_res = select_random_features(features, labels, size=rnd_features_size,\n",
    "                                                           class_id=feature_class_id)\n",
    "        plot_features(features_res, classes_res, cols=rnd_features_size, title=title)\n",
    "\n",
    "\n",
    "def plot_two_feature_sets(orig_features, orig_classes, mod_features, mod_classes, cols=None, title=None, filepath=None):\n",
    "    assert len(orig_features) == len(orig_classes) == len(mod_features) == len(mod_classes)\n",
    "    assert orig_features.shape[1:] == mod_features.shape[1:]\n",
    "\n",
    "    if cols is None:\n",
    "        cols = len(orig_features)\n",
    "\n",
    "    res_features = orig_features\n",
    "    res_classes = orig_classes\n",
    "\n",
    "    res_features = np.concatenate((res_features, mod_features), axis=0)\n",
    "    res_classes = np.concatenate((res_classes, mod_classes), axis=0)\n",
    "\n",
    "    plot_features(res_features, res_classes, cols=cols, title=title, filepath=filepath)"
   ]
  },
  {
   "cell_type": "code",
   "execution_count": null,
   "metadata": {},
   "outputs": [],
   "source": [
    "DATASET_URL = \"https://d17h27t6h515a5.cloudfront.net/topher/2017/February/5898cd6f_traffic-signs-data/traffic-signs-data.zip\"\n",
    "DATASET_NAMES_FILE = \"signnames.csv\"\n",
    "OUTPUT_DIRECTORY = os.path.abspath(\"output\")\n",
    "if not os.path.exists(OUTPUT_DIRECTORY):\n",
    "    os.makedirs(OUTPUT_DIRECTORY, exist_ok=True)\n",
    "\n",
    "input_files = get_input_files(DATASET_URL, OUTPUT_DIRECTORY)"
   ]
  },
  {
   "cell_type": "code",
   "execution_count": null,
   "metadata": {},
   "outputs": [],
   "source": [
    "classes_catalog = read_csv(DATASET_NAMES_FILE)\n",
    "training_file = input_files[\"train\"]\n",
    "validation_file = input_files[\"valid\"]\n",
    "testing_file = input_files[\"test\"]\n",
    "\n",
    "assert os.path.exists(training_file)\n",
    "assert os.path.exists(validation_file)\n",
    "assert os.path.exists(testing_file)\n",
    "\n",
    "with open(training_file, mode='rb') as f:\n",
    "    train = pickle.load(f)\n",
    "with open(validation_file, mode='rb') as f:\n",
    "    valid = pickle.load(f)\n",
    "with open(testing_file, mode='rb') as f:\n",
    "    test = pickle.load(f)\n",
    "\n",
    "X_train, y_train = train['features'], train['labels']\n",
    "X_valid, y_valid = valid['features'], valid['labels']\n",
    "X_test, y_test = test['features'], test['labels']\n",
    "\n",
    "assert len(X_train) == len(y_train)\n",
    "assert len(X_valid) == len(y_valid)\n",
    "assert len(X_test) == len(y_test)"
   ]
  },
  {
   "cell_type": "markdown",
   "metadata": {},
   "source": [
    "---\n",
    "\n",
    "## Step 1: Dataset Summary & Exploration\n",
    "\n",
    "The pickled data is a dictionary with 4 key/value pairs:\n",
    "\n",
    "- `'features'` is a 4D array containing raw pixel data of the traffic sign images, (num examples, width, height, channels).\n",
    "- `'labels'` is a 1D array containing the label/class id of the traffic sign. The file `signnames.csv` contains id -> name mappings for each id.\n",
    "- `'sizes'` is a list containing tuples, (width, height) representing the original width and height the image.\n",
    "- `'coords'` is a list containing tuples, (x1, y1, x2, y2) representing coordinates of a bounding box around the sign in the image. **THESE COORDINATES ASSUME THE ORIGINAL IMAGE. THE PICKLED DATA CONTAINS RESIZED VERSIONS (32 by 32) OF THESE IMAGES**\n",
    "\n",
    "Complete the basic data summary below. Use python, numpy and/or pandas methods to calculate the data summary rather than hard coding the results. For example, the [pandas shape method](http://pandas.pydata.org/pandas-docs/stable/generated/pandas.DataFrame.shape.html) might be useful for calculating some of the summary results. "
   ]
  },
  {
   "cell_type": "markdown",
   "metadata": {},
   "source": [
    "### Provide a Basic Summary of the Data Set Using Python, Numpy and/or Pandas"
   ]
  },
  {
   "cell_type": "code",
   "execution_count": null,
   "metadata": {},
   "outputs": [],
   "source": [
    "n_train = len(X_train)\n",
    "n_validation = len(X_valid)\n",
    "n_test = len(X_test)\n",
    "image_shape = X_train[0].shape\n",
    "unique_classes, unique_classes_size = np.unique(y_train, return_counts=True)\n",
    "n_classes = len(unique_classes)\n",
    "\n",
    "print(\"Number of training examples =\", n_train)\n",
    "print(\"Number of validation examples =\", n_validation)\n",
    "print(\"Number of testing examples =\", n_test)\n",
    "print(\"Image data shape =\", image_shape)\n",
    "print(\"Number of classes =\", n_classes)"
   ]
  },
  {
   "cell_type": "markdown",
   "metadata": {},
   "source": [
    "### Include an exploratory visualization of the dataset"
   ]
  },
  {
   "cell_type": "markdown",
   "metadata": {},
   "source": [
    "Visualize the German Traffic Signs Dataset using the pickled file(s). This is open ended, suggestions include: plotting traffic sign images, plotting the count of each sign, etc. \n",
    "\n",
    "The [Matplotlib](http://matplotlib.org/) [examples](http://matplotlib.org/examples/index.html) and [gallery](http://matplotlib.org/gallery.html) pages are a great resource for doing visualizations in Python.\n",
    "\n",
    "**NOTE:** It's recommended you start with something simple first. If you wish to do more, come back to it after you've completed the rest of the sections. It can be interesting to look at the distribution of classes in the training, validation and test set. Is the distribution the same? Are there more examples of some classes than others?"
   ]
  },
  {
   "cell_type": "code",
   "execution_count": null,
   "metadata": {},
   "outputs": [],
   "source": [
    "show_distribution(y_train, n_classes, 'Train Data')"
   ]
  },
  {
   "cell_type": "markdown",
   "metadata": {},
   "source": [
    "----\n",
    "\n",
    "## Step 2: Design and Test a Model Architecture\n",
    "\n",
    "Design and implement a deep learning model that learns to recognize traffic signs. Train and test your model on the [German Traffic Sign Dataset](http://benchmark.ini.rub.de/?section=gtsrb&subsection=dataset).\n",
    "\n",
    "The LeNet-5 implementation shown in the [classroom](https://classroom.udacity.com/nanodegrees/nd013/parts/fbf77062-5703-404e-b60c-95b78b2f3f9e/modules/6df7ae49-c61c-4bb2-a23e-6527e69209ec/lessons/601ae704-1035-4287-8b11-e2c2716217ad/concepts/d4aca031-508f-4e0b-b493-e7b706120f81) at the end of the CNN lesson is a solid starting point. You'll have to change the number of classes and possibly the preprocessing, but aside from that it's plug and play! \n",
    "\n",
    "With the LeNet-5 solution from the lecture, you should expect a validation set accuracy of about 0.89. To meet specifications, the validation set accuracy will need to be at least 0.93. It is possible to get an even higher accuracy, but 0.93 is the minimum for a successful project submission. \n",
    "\n",
    "There are various aspects to consider when thinking about this problem:\n",
    "\n",
    "- Neural network architecture (is the network over or underfitting?)\n",
    "- Play around preprocessing techniques (normalization, rgb to grayscale, etc)\n",
    "- Number of examples per label (some have more than others).\n",
    "- Generate fake data.\n",
    "\n",
    "Here is an example of a [published baseline model on this problem](http://yann.lecun.com/exdb/publis/pdf/sermanet-ijcnn-11.pdf). It's not required to be familiar with the approach used in the paper but, it's good practice to try to read papers like these."
   ]
  },
  {
   "cell_type": "markdown",
   "metadata": {},
   "source": [
    "### Pre-process the Data Set (normalization, grayscale, etc.)"
   ]
  },
  {
   "cell_type": "markdown",
   "metadata": {},
   "source": [
    "Minimally, the image data should be normalized so that the data has mean zero and equal variance. For image data, `(pixel - 128)/ 128` is a quick way to approximately normalize the data and can be used in this project. \n",
    "\n",
    "Other pre-processing steps are optional. You can try different techniques to see if it improves performance. \n",
    "\n",
    "Use the code cell (or multiple code cells, if necessary) to implement the first step of your project."
   ]
  },
  {
   "cell_type": "code",
   "execution_count": null,
   "metadata": {
    "collapsed": true
   },
   "outputs": [],
   "source": [
    "datagen = ImageDataGenerator(\n",
    "    fill_mode='nearest',\n",
    "    horizontal_flip=False,\n",
    "    vertical_flip=False,\n",
    "    width_shift_range=0.1,\n",
    "    height_shift_range=0.1,\n",
    "    zoom_range=0.2,\n",
    "    shear_range=0.15,\n",
    "    rotation_range=10.0\n",
    ")"
   ]
  },
  {
   "cell_type": "code",
   "execution_count": null,
   "metadata": {
    "scrolled": true
   },
   "outputs": [],
   "source": [
    "classes_to_plot = 10\n",
    "rnd_features, rnd_classes = select_random_features(X_train, y_train, classes_to_plot)\n",
    "mod_rnd_features, mod_rnd_classes = datagen.flow(rnd_features, rnd_classes, batch_size=classes_to_plot,\n",
    "                                                 shuffle=False).next()\n",
    "mod_rnd_features = mod_rnd_features.astype(np.uint8)\n",
    "\n",
    "plot_two_feature_sets(rnd_features, rnd_classes, mod_rnd_features, mod_rnd_classes, title=\"Original/Augmented\")"
   ]
  },
  {
   "cell_type": "code",
   "execution_count": null,
   "metadata": {
    "collapsed": true
   },
   "outputs": [],
   "source": [
    "train_images_enriched_npy = os.path.join(OUTPUT_DIRECTORY, \"train_images_enriched.npy\")\n",
    "train_classes_enriched_npy = os.path.join(OUTPUT_DIRECTORY, \"train_classes_enriched.npy\")"
   ]
  },
  {
   "cell_type": "code",
   "execution_count": null,
   "metadata": {},
   "outputs": [],
   "source": [
    "def generated_samples_available():\n",
    "    return os.path.exists(train_images_enriched_npy) and os.path.exists(train_classes_enriched_npy)\n",
    "\n",
    "\n",
    "def load_generated_samples():\n",
    "    return load_obj(train_images_enriched_npy), load_obj(train_classes_enriched_npy)\n",
    "\n",
    "\n",
    "def save_generated_samples(images):\n",
    "    (train_images_enriched, train_classes_enriched) = images\n",
    "    save_obj(train_images_enriched, outfile=train_images_enriched_npy)\n",
    "    save_obj(train_classes_enriched, outfile=train_classes_enriched_npy)\n",
    "\n",
    "\n",
    "def validate_generated_data_consistency(in1, in2):\n",
    "    (train_images_enriched1, train_classes_enriched1) = in1\n",
    "    (train_images_enriched2, train_classes_enriched2) = in2\n",
    "\n",
    "    assert np.array_equal(train_images_enriched1, train_images_enriched2)\n",
    "    assert np.array_equal(train_classes_enriched1, train_classes_enriched2)\n",
    "\n",
    "\n",
    "def generate_samples(features, classes, unique_classes, unique_classes_size, optimal_class_size=5000):\n",
    "    res_features = copy_array(features)\n",
    "    res_classes = copy_array(classes)\n",
    "\n",
    "    # find avarage\n",
    "    # optimal_size = np.mean(unique_classes_size)\n",
    "    # find max number of occurrences across classes\n",
    "    # optimal_class_size = unique_classes_size[np.argmax(unique_classes_size)]\n",
    "    classes_with_missing_samples = np.where(unique_classes_size < optimal_class_size)[0]\n",
    "    num_of_classes_with_missing_samples = len(classes_with_missing_samples)\n",
    "\n",
    "    print(\"Classes to update: {}\".format(num_of_classes_with_missing_samples))\n",
    "\n",
    "    classes_processed = 0\n",
    "    for idx, class_id in tqdm(enumerate(unique_classes)):\n",
    "        num_of_occurrences = unique_classes_size[idx]\n",
    "        if num_of_occurrences < optimal_class_size:\n",
    "            missing_samples_size = int(optimal_class_size - num_of_occurrences)\n",
    "            class_indexes = np.where(classes == class_id)[0]\n",
    "            selected_features = features[class_indexes]\n",
    "            selected_classes = classes[class_indexes]\n",
    "\n",
    "            features_size = len(selected_features)\n",
    "            quotient, remainder = divmod(missing_samples_size, features_size)\n",
    "\n",
    "            if quotient > 0:\n",
    "                for idx, new_images in enumerate(\n",
    "                        datagen.flow(selected_features, selected_classes, batch_size=features_size, shuffle=False)):\n",
    "                    (new_features, new_classes) = new_images\n",
    "                    new_features = new_features.astype(np.uint8)\n",
    "\n",
    "                    assert len(new_features) == len(new_classes) == features_size\n",
    "\n",
    "                    res_features = np.concatenate((res_features, new_features), axis=0)\n",
    "                    res_classes = np.concatenate((res_classes, new_classes), axis=0)\n",
    "\n",
    "                    if idx + 1 == quotient:\n",
    "                        break\n",
    "            if remainder > 0:\n",
    "                (new_features, new_classes) = datagen.flow(selected_features, selected_classes,\n",
    "                                                           batch_size=remainder, shuffle=False).next()\n",
    "                new_features = new_features.astype(np.uint8)\n",
    "\n",
    "                assert len(new_features) == len(new_classes) == remainder\n",
    "\n",
    "                res_features = np.concatenate((res_features, new_features), axis=0)\n",
    "                res_classes = np.concatenate((res_classes, new_classes), axis=0)\n",
    "\n",
    "            classes_processed += 1\n",
    "\n",
    "    return res_features, res_classes\n",
    "\n",
    "\n",
    "train_images_enriched = train_classes_enriched = None\n",
    "if generated_samples_available():\n",
    "    train_images_enriched, train_classes_enriched = load_generated_samples()\n",
    "else:\n",
    "    train_images_enriched, train_classes_enriched = generate_samples(X_train, y_train, unique_classes,\n",
    "                                                                     unique_classes_size)\n",
    "    save_generated_samples((train_images_enriched, train_classes_enriched))\n",
    "\n",
    "print(\"Validate generated data consistency\")\n",
    "validate_generated_data_consistency((train_images_enriched, train_classes_enriched), load_generated_samples())\n",
    "print(\"Done\")"
   ]
  },
  {
   "cell_type": "code",
   "execution_count": null,
   "metadata": {},
   "outputs": [],
   "source": [
    "show_distribution(y_train, n_classes, 'Train Data')\n",
    "show_distribution(train_classes_enriched, n_classes, 'Augmented Data')"
   ]
  },
  {
   "cell_type": "code",
   "execution_count": null,
   "metadata": {
    "collapsed": true
   },
   "outputs": [],
   "source": [
    "# Use enriched training dataset by default\n",
    "X_train, y_train = train_images_enriched, train_classes_enriched"
   ]
  },
  {
   "cell_type": "code",
   "execution_count": null,
   "metadata": {
    "collapsed": true
   },
   "outputs": [],
   "source": [
    "train_images_normalized_npy = os.path.join(OUTPUT_DIRECTORY, \"train_images_normalized.npy\")\n",
    "valid_images_normalized_npy = os.path.join(OUTPUT_DIRECTORY, \"valid_images_normalized.npy\")\n",
    "test_images_normalized_npy = os.path.join(OUTPUT_DIRECTORY, \"test_images_normalized.npy\")"
   ]
  },
  {
   "cell_type": "code",
   "execution_count": null,
   "metadata": {},
   "outputs": [],
   "source": [
    "def normalized_images_available():\n",
    "    return os.path.exists(train_images_normalized_npy) \\\n",
    "           and os.path.exists(valid_images_normalized_npy) \\\n",
    "           and os.path.exists(test_images_normalized_npy)\n",
    "\n",
    "\n",
    "def load_normalized_images():\n",
    "    return load_obj(train_images_normalized_npy), load_obj(valid_images_normalized_npy), \\\n",
    "           load_obj(test_images_normalized_npy)\n",
    "\n",
    "\n",
    "def save_normalized_images(images):\n",
    "    (train_images_normalized, valid_images_normalized, test_images_normalized) = images\n",
    "\n",
    "    save_obj(train_images_normalized, train_images_normalized_npy)\n",
    "    save_obj(valid_images_normalized, valid_images_normalized_npy)\n",
    "    save_obj(test_images_normalized, test_images_normalized_npy)\n",
    "\n",
    "\n",
    "def normalize_images_adapthist(images):\n",
    "    # images = images[:10]\n",
    "    images_gray = np.dot(images[:, :, :, :3], [0.2989, 0.587, 0.114])\n",
    "    images_gray = images_gray / 255.0\n",
    "\n",
    "    with warnings.catch_warnings():\n",
    "        warnings.simplefilter(\"ignore\")\n",
    "        for i in tqdm(range(len(images_gray))):\n",
    "            images_gray[i] = exposure.equalize_adapthist(images_gray[i])\n",
    "\n",
    "    images_gray = images_gray.reshape(-1, images_gray.shape[1], images_gray.shape[2], 1).astype(np.float32)\n",
    "    return images_gray\n",
    "\n",
    "\n",
    "def normalize_images_simple(images):\n",
    "    images_gray_mean = np.mean(images, axis=3, keepdims=True)\n",
    "    assert images_gray_mean.shape[:-1] == images.shape[:-1]\n",
    "\n",
    "    images_gray_norm = (images_gray_mean - 128) / 128\n",
    "    assert images_gray_norm.shape == images_gray_mean.shape\n",
    "\n",
    "    return images_gray_norm\n",
    "\n",
    "\n",
    "def normalize_images(images):\n",
    "    # images = images[:10]\n",
    "    return normalize_images_adapthist(images)\n",
    "\n",
    "\n",
    "def validate_norm_data_consistency(in1, in2):\n",
    "    (train_images_normalized1,\n",
    "     valid_images_normalized1,\n",
    "     test_images_normalized1) = in1\n",
    "    (train_images_normalized2,\n",
    "     valid_images_normalized2,\n",
    "     test_images_normalized2) = in2\n",
    "\n",
    "    assert np.array_equal(train_images_normalized1, train_images_normalized2)\n",
    "    assert np.array_equal(valid_images_normalized1, valid_images_normalized2)\n",
    "    assert np.array_equal(test_images_normalized1, test_images_normalized2)\n",
    "\n",
    "\n",
    "train_images_normalized = valid_images_normalized = test_images_normalized = None\n",
    "\n",
    "if normalized_images_available():\n",
    "    print(\"Preloading data\")\n",
    "    train_images_normalized, valid_images_normalized, test_images_normalized = load_normalized_images()\n",
    "else:\n",
    "    print(\"Normalizing data\")\n",
    "    train_images_normalized = normalize_images(X_train)\n",
    "    valid_images_normalized = normalize_images(X_valid)\n",
    "    test_images_normalized = normalize_images(X_test)\n",
    "    print(\"Saving normalized data\")\n",
    "    save_normalized_images((train_images_normalized, valid_images_normalized, test_images_normalized))\n",
    "\n",
    "print(\"Validate normalized data consistency\")\n",
    "validate_norm_data_consistency((train_images_normalized, valid_images_normalized, test_images_normalized),\n",
    "                               load_normalized_images())\n",
    "print(\"Done\")"
   ]
  },
  {
   "cell_type": "code",
   "execution_count": null,
   "metadata": {},
   "outputs": [],
   "source": [
    "classes_to_plot = 2\n",
    "for idx in range(classes_to_plot):\n",
    "    feature_class_id = unique_classes[idx]\n",
    "    plot_first_n_features(X_train, y_train, feature_class_id,\n",
    "                          title=\"Original. {} - {}\".format(feature_class_id, classes_catalog[feature_class_id]))\n",
    "    plot_first_n_features(train_images_normalized, y_train, feature_class_id,\n",
    "                          title=\"Grayscale normalized. {} - {}\".format(feature_class_id,\n",
    "                                                                       classes_catalog[feature_class_id]))"
   ]
  },
  {
   "cell_type": "markdown",
   "metadata": {},
   "source": [
    "We normalized pixel values to be in the range of 0-1. This should help us with gradient decent.\n",
    "\n",
    "Histogram Equalization reduce noise in images and thus make the model more robust in predicting same images. \n",
    "\n",
    "The training data was augmented to obtain 5000 samples per class. The additional data was generated to increase samples for training, which in turn would make training more robust. The newly generated dataset includes normalized original data, and newly generated data (by randomly introducing rotation, x-translation, y-translation, sheer factor and zoom factor to the original data). The new dataset is balanced and had already been pre-processed for normalizing contrast and illumination."
   ]
  },
  {
   "cell_type": "markdown",
   "metadata": {},
   "source": [
    "### Model Architecture"
   ]
  },
  {
   "cell_type": "code",
   "execution_count": null,
   "metadata": {
    "collapsed": true
   },
   "outputs": [],
   "source": [
    "EPOCHS = 20\n",
    "BATCH_SIZE = 128\n",
    "(height, width, depth) = train_images_normalized.shape[1:]"
   ]
  },
  {
   "cell_type": "code",
   "execution_count": null,
   "metadata": {
    "collapsed": true
   },
   "outputs": [],
   "source": [
    "def lenetMultiDropoutsBefore45(x, keep_prob, n_classes):\n",
    "    # Arguments used for tf.truncated_normal, randomly defines variables for the weights and biases for each layer\n",
    "    mu = 0\n",
    "    sigma = 0.1\n",
    "\n",
    "    # SOLUTION: Layer 1: Convolutional. Input = 32x32x1. Output = 28x28x6.\n",
    "    conv1_W = tf.Variable(tf.truncated_normal(shape=(5, 5, 1, 6), mean=mu, stddev=sigma))\n",
    "    conv1_b = tf.Variable(tf.zeros(6))\n",
    "    conv1 = tf.nn.conv2d(x, conv1_W, strides=[1, 1, 1, 1], padding='VALID') + conv1_b\n",
    "\n",
    "    # SOLUTION: Activation.\n",
    "    conv1 = tf.nn.relu(conv1)\n",
    "\n",
    "    # SOLUTION: Pooling. Input = 28x28x6. Output = 14x14x6.\n",
    "    conv1 = tf.nn.max_pool(conv1, ksize=[1, 2, 2, 1], strides=[1, 2, 2, 1], padding='VALID')\n",
    "\n",
    "    # SOLUTION: Layer 2: Convolutional. Output = 10x10x16.\n",
    "    conv2_W = tf.Variable(tf.truncated_normal(shape=(5, 5, 6, 16), mean=mu, stddev=sigma))\n",
    "    conv2_b = tf.Variable(tf.zeros(16))\n",
    "    conv2 = tf.nn.conv2d(conv1, conv2_W, strides=[1, 1, 1, 1], padding='VALID') + conv2_b\n",
    "\n",
    "    # SOLUTION: Activation.\n",
    "    conv2 = tf.nn.relu(conv2)\n",
    "\n",
    "    # SOLUTION: Pooling. Input = 10x10x16. Output = 5x5x16.\n",
    "    conv2 = tf.nn.max_pool(conv2, ksize=[1, 2, 2, 1], strides=[1, 2, 2, 1], padding='VALID')\n",
    "\n",
    "    # SOLUTION: Flatten. Input = 5x5x16. Output = 400.\n",
    "    fc0 = flatten(conv2)\n",
    "\n",
    "    # SOLUTION: Layer 3: Fully Connected. Input = 400. Output = 120.\n",
    "    fc1_W = tf.Variable(tf.truncated_normal(shape=(400, 120), mean=mu, stddev=sigma))\n",
    "    fc1_b = tf.Variable(tf.zeros(120))\n",
    "    fc1 = tf.matmul(fc0, fc1_W) + fc1_b\n",
    "\n",
    "    # SOLUTION: Activation.\n",
    "    fc1 = tf.nn.relu(fc1)\n",
    "\n",
    "    # Dropout\n",
    "    dr0 = tf.nn.dropout(fc1, keep_prob)\n",
    "\n",
    "    # SOLUTION: Layer 4: Fully Connected. Input = 120. Output = 84.\n",
    "    fc2_W = tf.Variable(tf.truncated_normal(shape=(120, 84), mean=mu, stddev=sigma))\n",
    "    fc2_b = tf.Variable(tf.zeros(84))\n",
    "    fc2 = tf.matmul(dr0, fc2_W) + fc2_b\n",
    "\n",
    "    # SOLUTION: Activation.\n",
    "    fc2 = tf.nn.relu(fc2)\n",
    "\n",
    "    # Dropout\n",
    "    dr1 = tf.nn.dropout(fc2, keep_prob)\n",
    "\n",
    "    # SOLUTION: Layer 5: Fully Connected. Input = 84. Output = {n_classes}.\n",
    "    fc3_W = tf.Variable(tf.truncated_normal(shape=(84, n_classes), mean=mu, stddev=sigma))\n",
    "    fc3_b = tf.Variable(tf.zeros(n_classes))\n",
    "    # logits = tf.matmul(fc2, fc3_W) + fc3_b\n",
    "    logits = tf.matmul(dr1, fc3_W) + fc3_b\n",
    "\n",
    "    return logits, {\"conv1\": conv1, \"conv2\": conv2, \"fc0\": fc0, \"fc1\": fc1, \"fc2\": fc2, \"logits\": logits}"
   ]
  },
  {
   "cell_type": "code",
   "execution_count": null,
   "metadata": {
    "collapsed": true
   },
   "outputs": [],
   "source": [
    "def evaluate(X_data, y_data, accuracy_operation, x, y, keep_prob, keep_prob_value=1.0):\n",
    "    num_examples = len(X_data)\n",
    "    total_accuracy = 0\n",
    "    sess = tf.get_default_session()\n",
    "    for offset in tqdm(range(0, num_examples, BATCH_SIZE)):\n",
    "        batch_x, batch_y = X_data[offset:offset + BATCH_SIZE], y_data[offset:offset + BATCH_SIZE]\n",
    "        accuracy = sess.run(accuracy_operation, feed_dict={x: batch_x, y: batch_y, keep_prob: keep_prob_value})\n",
    "        total_accuracy += (accuracy * len(batch_x))\n",
    "    return total_accuracy / num_examples"
   ]
  },
  {
   "cell_type": "markdown",
   "metadata": {},
   "source": [
    "Modified LeNet Architecture\n",
    "\n",
    "Input (32x32x3) -> Convolutional 5x5x6 -> ReLu -> MaxPool (stride of 2) -> Convolutional 5x5x16 -> ReLu -> MaxPool (stride of 2) -> Flatten (400) -> Fully Connected (120 units) -> ReLu -> Dropout -> Fully Connected (84 units) -> ReLu -> Dropout -> Fully Connected (43 units, output)"
   ]
  },
  {
   "cell_type": "markdown",
   "metadata": {},
   "source": [
    "### Train, Validate and Test the Model"
   ]
  },
  {
   "cell_type": "markdown",
   "metadata": {},
   "source": [
    "A validation set can be used to assess how well the model is performing. A low accuracy on the training and validation\n",
    "sets imply underfitting. A high accuracy on the training set but low accuracy on the validation set implies overfitting."
   ]
  },
  {
   "cell_type": "code",
   "execution_count": null,
   "metadata": {
    "collapsed": true
   },
   "outputs": [],
   "source": [
    "def train_model(train_features, train_classes, valid_features, valid_classes, model_config, keep_prob_value=0.5,\n",
    "                model_name=\"lenet\", desc=None, output_dir=OUTPUT_DIRECTORY):\n",
    "    print(\"Train model {}\".format(model_name))\n",
    "\n",
    "    if desc is None:\n",
    "        desc = model_name\n",
    "\n",
    "    x, y, keep_prob, logits, training_operation, accuracy_operation, cnn_params = model_config()\n",
    "    saver = tf.train.Saver()\n",
    "\n",
    "    results = []\n",
    "    with tf.Session() as sess:\n",
    "        sess.run(tf.global_variables_initializer())\n",
    "\n",
    "        print(\"Training...\")\n",
    "        print()\n",
    "        for epoch in range(EPOCHS):\n",
    "            train_features, train_classes = shuffle(train_features, train_classes)\n",
    "            for offset in tqdm(range(0, len(train_features), BATCH_SIZE)):\n",
    "                end = offset + BATCH_SIZE\n",
    "                batch_x, batch_y = train_features[offset:end], train_classes[offset:end]\n",
    "                sess.run(training_operation, feed_dict={x: batch_x, y: batch_y, keep_prob: keep_prob_value})\n",
    "\n",
    "            validation_accuracy = evaluate(valid_features, valid_classes, accuracy_operation, x, y, keep_prob)\n",
    "            epoch_number = epoch + 1\n",
    "            print(\"EPOCH {} ...\".format(epoch_number))\n",
    "            print(\"Validation Accuracy = {:.3f}\".format(validation_accuracy))\n",
    "            print()\n",
    "            results.append([epoch_number, validation_accuracy])\n",
    "\n",
    "        saver.save(sess, os.path.join(output_dir, model_name))\n",
    "        print(\"Model saved\")\n",
    "\n",
    "        # trasform [[epoch, accuracy], [epoch, accuracy]] -> [[epoch, epoch], [accuracy, accuracy]]\n",
    "        return desc, np.array(results).T\n",
    "\n",
    "\n",
    "def calc_top_k(new_features, new_classes, model_config, top_k_value=5,\n",
    "               keep_prob_value=1.0, model_name=\"lenet\", desc=None, output_dir=OUTPUT_DIRECTORY):\n",
    "    print(\"Calculate top_k model {}\".format(model_name))\n",
    "\n",
    "    if desc is None:\n",
    "        desc = model_name\n",
    "\n",
    "    model_file = os.path.join(output_dir, model_name)\n",
    "\n",
    "    x, y, keep_prob, logits, training_operation, accuracy_operation, cnn_params = model_config()\n",
    "    saver = tf.train.Saver()\n",
    "\n",
    "    with tf.Session() as sess:\n",
    "        sess.run(tf.global_variables_initializer())\n",
    "        saver.restore(sess, model_file)\n",
    "        sess = tf.get_default_session()\n",
    "        top_k_results = sess.run(tf.nn.top_k(tf.nn.softmax(logits), top_k_value),\n",
    "                                 feed_dict={x: new_features, keep_prob: keep_prob_value})\n",
    "        return top_k_results\n",
    "\n",
    "\n",
    "def calc_probability(new_features, new_classes, model_config,\n",
    "                     keep_prob_value=1.0, model_name=\"lenet\", desc=None, output_dir=OUTPUT_DIRECTORY):\n",
    "    print(\"Calculate probability model {}\".format(model_name))\n",
    "\n",
    "    if desc is None:\n",
    "        desc = model_name\n",
    "\n",
    "    model_file = os.path.join(output_dir, model_name)\n",
    "\n",
    "    x, y, keep_prob, logits, training_operation, accuracy_operation, cnn_params = model_config()\n",
    "    saver = tf.train.Saver()\n",
    "\n",
    "    with tf.Session() as sess:\n",
    "        sess.run(tf.global_variables_initializer())\n",
    "        saver.restore(sess, model_file)\n",
    "        sess = tf.get_default_session()\n",
    "        predicted_classes = sess.run(tf.argmax(logits, 1), feed_dict={x: new_features, keep_prob: keep_prob_value})\n",
    "        assert new_classes.shape == predicted_classes.shape\n",
    "        return predicted_classes\n",
    "\n",
    "\n",
    "def model_multi_dropouts_before45_config():\n",
    "    tf.reset_default_graph()\n",
    "\n",
    "    x = tf.placeholder(tf.float32, (None, height, width, depth), name=\"X\")\n",
    "    y = tf.placeholder(tf.int32, (None), name=\"Y\")\n",
    "    one_hot_y = tf.one_hot(y, n_classes)\n",
    "    keep_prob = tf.placeholder(tf.float32, name=\"keep_prob\")\n",
    "    rate = 0.001\n",
    "    logits, cnn_params = lenetMultiDropoutsBefore45(x, keep_prob, n_classes)\n",
    "\n",
    "    cross_entropy = tf.nn.softmax_cross_entropy_with_logits(labels=one_hot_y, logits=logits)\n",
    "    loss_operation = tf.reduce_mean(cross_entropy)\n",
    "    optimizer = tf.train.AdamOptimizer(learning_rate=rate)\n",
    "    training_operation = optimizer.minimize(loss_operation)\n",
    "    correct_prediction = tf.equal(tf.argmax(logits, 1), tf.argmax(one_hot_y, 1))\n",
    "    accuracy_operation = tf.reduce_mean(tf.cast(correct_prediction, tf.float32))\n",
    "\n",
    "    return x, y, keep_prob, logits, training_operation, accuracy_operation, cnn_params"
   ]
  },
  {
   "cell_type": "code",
   "execution_count": null,
   "metadata": {
    "collapsed": true
   },
   "outputs": [],
   "source": [
    "model_metrics_file = os.path.join(OUTPUT_DIRECTORY, \"model_metrics.pickle\")"
   ]
  },
  {
   "cell_type": "code",
   "execution_count": null,
   "metadata": {
    "collapsed": true
   },
   "outputs": [],
   "source": [
    "def model_metrics_available():\n",
    "    return os.path.exists(model_metrics_file)\n",
    "\n",
    "\n",
    "def save_model_metrics(metrics):\n",
    "    save_obj(metrics, model_metrics_file)\n",
    "\n",
    "\n",
    "def load_model_metrics():\n",
    "    return load_obj(model_metrics_file)"
   ]
  },
  {
   "cell_type": "code",
   "execution_count": null,
   "metadata": {
    "collapsed": true
   },
   "outputs": [],
   "source": [
    "def plot_confusion_matrix(cm):\n",
    "    cm = [row / sum(row) for row in cm]\n",
    "    fig = plt.figure(figsize=(10, 10))\n",
    "    ax = fig.add_subplot(111)\n",
    "    cax = ax.matshow(cm)\n",
    "    fig.colorbar(cax)\n",
    "    plt.title('Confusion Matrix')\n",
    "    plt.xlabel('Predicted Classes')\n",
    "    plt.ylabel('True Classes')\n",
    "    plt.show()\n",
    "\n",
    "\n",
    "def print_confusion_matrix(cm, orig_classes, catalog=classes_catalog, order_desc=False):\n",
    "    results = []\n",
    "    for i, row in enumerate(cm):\n",
    "        accuracy = round(row[i] / sum(row) * 100, 2)\n",
    "        class_id = orig_classes[i]\n",
    "        class_name = catalog[orig_classes[i]]\n",
    "        results.append((accuracy, class_id, class_name))\n",
    "\n",
    "    total_accuracy = []\n",
    "    for result in sorted(results, key=lambda x: x[0], reverse=order_desc):\n",
    "        (accuracy, class_id, class_name) = result\n",
    "        print('{}% - {} / {}'.format(accuracy, class_id, class_name))\n",
    "        total_accuracy.append(accuracy)\n",
    "\n",
    "    print(\"Accuracy: Mean: {}% Std: {}\".format(np.around(np.mean(total_accuracy), decimals=3),\n",
    "                                               np.around(np.std(total_accuracy), decimals=3)))"
   ]
  },
  {
   "cell_type": "code",
   "execution_count": null,
   "metadata": {
    "collapsed": true
   },
   "outputs": [],
   "source": [
    "train_setup = [\n",
    "    partial(train_model, train_features=train_images_normalized, train_classes=y_train,\n",
    "            valid_features=valid_images_normalized,\n",
    "            valid_classes=y_valid, model_config=model_multi_dropouts_before45_config,\n",
    "            desc=\"NDR 45 Grayscale normalized\", model_name=\"ndr45_train_images_normalized_model\"),\n",
    "]"
   ]
  },
  {
   "cell_type": "code",
   "execution_count": null,
   "metadata": {},
   "outputs": [],
   "source": [
    "results = []\n",
    "if model_metrics_available():\n",
    "    results = load_model_metrics()\n",
    "else:\n",
    "    for test in train_setup:\n",
    "        result = test()\n",
    "        print(\"Result: \", result)\n",
    "        results.append(result)\n",
    "    print(\"Saving model metrics\")\n",
    "    save_model_metrics(results)\n",
    "    \n",
    "print(\"Done\")"
   ]
  },
  {
   "cell_type": "code",
   "execution_count": null,
   "metadata": {},
   "outputs": [],
   "source": [
    "plot_train_results(results, os.path.join(OUTPUT_DIRECTORY, \"train_results.png\"))"
   ]
  },
  {
   "cell_type": "code",
   "execution_count": null,
   "metadata": {},
   "outputs": [],
   "source": [
    "train_features_predicted_classes = calc_probability(train_images_normalized, y_train,\n",
    "                                                   model_config=model_multi_dropouts_before45_config,\n",
    "                                                   desc=\"NDR 45 Grayscale normalized (Train)\",\n",
    "                                                   model_name=\"ndr45_train_images_normalized_model\")"
   ]
  },
  {
   "cell_type": "code",
   "execution_count": null,
   "metadata": {},
   "outputs": [],
   "source": [
    "print_confusion_matrix(confusion_matrix(y_train, train_features_predicted_classes), y_train, order_desc=True)"
   ]
  },
  {
   "cell_type": "code",
   "execution_count": null,
   "metadata": {},
   "outputs": [],
   "source": [
    "valid_features_predicted_classes = calc_probability(valid_images_normalized, y_valid,\n",
    "                                                   model_config=model_multi_dropouts_before45_config,\n",
    "                                                   desc=\"NDR 45 Grayscale normalized (Valid)\",\n",
    "                                                   model_name=\"ndr45_train_images_normalized_model\")"
   ]
  },
  {
   "cell_type": "code",
   "execution_count": null,
   "metadata": {
    "collapsed": true
   },
   "outputs": [],
   "source": [
    "print_confusion_matrix(confusion_matrix(y_valid, valid_features_predicted_classes), y_valid, order_desc=True)"
   ]
  },
  {
   "cell_type": "code",
   "execution_count": null,
   "metadata": {},
   "outputs": [],
   "source": [
    "test_features_predicted_classes = calc_probability(test_images_normalized, y_test,\n",
    "                                                   model_config=model_multi_dropouts_before45_config,\n",
    "                                                   desc=\"NDR 45 Grayscale normalized (Test)\",\n",
    "                                                   model_name=\"ndr45_train_images_normalized_model\")"
   ]
  },
  {
   "cell_type": "code",
   "execution_count": null,
   "metadata": {},
   "outputs": [],
   "source": [
    "print_confusion_matrix(confusion_matrix(y_test, test_features_predicted_classes), y_test, order_desc=True)\n",
    "plot_confusion_matrix(confusion_matrix(y_test, test_features_predicted_classes))"
   ]
  },
  {
   "cell_type": "markdown",
   "metadata": {},
   "source": [
    "To train the model we used next setup:\n",
    "- AdamOptimizer for managing learning rate\n",
    "- Batch Size: 128\n",
    "- Epochs: 20\n",
    "- Variables initialized with normal distribution (mean=0, std dev=0.1)\n",
    "- Biases initialized with zeros"
   ]
  },
  {
   "cell_type": "markdown",
   "metadata": {},
   "source": [
    "To get good score we used:\n",
    "\n",
    "- Preproceesed data with adaptive histogram equalization to make protect training from varying contrast and illumination.\n",
    "- Augmented training data by randomly introducing rotation, horizontal and vertical shift, and scaling.\n",
    "- Trained with LeNet Architecture as the problem description is similar to image classification problem on which LeNet was applied. Dropouts were introduced to avoid overfitting.\n",
    "- Decided batch size and epoch by using generated validation and test set."
   ]
  },
  {
   "cell_type": "markdown",
   "metadata": {},
   "source": [
    "---\n",
    "\n",
    "## Step 3: Test a Model on New Images\n",
    "\n",
    "To give yourself more insight into how your model is working, download at least five pictures of German traffic signs from the web and use your model to predict the traffic sign type.\n",
    "\n",
    "You may find `signnames.csv` useful as it contains mappings from the class id (integer) to the actual sign name."
   ]
  },
  {
   "cell_type": "markdown",
   "metadata": {},
   "source": [
    "### Load and Output the Images"
   ]
  },
  {
   "cell_type": "code",
   "execution_count": null,
   "metadata": {
    "collapsed": true
   },
   "outputs": [],
   "source": [
    "new_features_with_classes = [(resize_image(read_image(path)), int(basename(path).split(\".\")[-2])) for path in\n",
    "                             glob.glob('images/*.jpg')]\n",
    "(new_features, new_classes) = zip(*new_features_with_classes)\n",
    "new_features = np.array(new_features).astype(np.float32)\n",
    "new_classes = np.array(new_classes)\n",
    "\n",
    "assert new_features.shape[1:] == X_train.shape[1:]"
   ]
  },
  {
   "cell_type": "code",
   "execution_count": null,
   "metadata": {
    "collapsed": true
   },
   "outputs": [],
   "source": [
    "original_features = []\n",
    "original_classes = []\n",
    "for idx, class_id in enumerate(new_classes):\n",
    "    class_indexes = np.where(y_test == class_id)[0]\n",
    "    original_features.append(X_test[class_indexes][0].squeeze())\n",
    "    original_classes.append(class_id)\n",
    "\n",
    "original_features = np.array(original_features)\n",
    "original_classes = np.array(original_classes)"
   ]
  },
  {
   "cell_type": "code",
   "execution_count": null,
   "metadata": {},
   "outputs": [],
   "source": [
    "plot_two_feature_sets(original_features.astype(np.uint8), original_classes, new_features.astype(np.uint8), new_classes,\n",
    "                      title=\"Original/Random\")"
   ]
  },
  {
   "cell_type": "code",
   "execution_count": null,
   "metadata": {},
   "outputs": [],
   "source": [
    "new_features_normalized = normalize_images(new_features)"
   ]
  },
  {
   "cell_type": "code",
   "execution_count": null,
   "metadata": {},
   "outputs": [],
   "source": [
    "plot_features(new_features.astype(np.uint8), new_classes, title=\"Original Random Images\")\n",
    "plot_features(new_features_normalized, new_classes, title=\"Normalized Random Images\")"
   ]
  },
  {
   "cell_type": "markdown",
   "metadata": {},
   "source": [
    "### Predict the Sign Type for Each Image"
   ]
  },
  {
   "cell_type": "code",
   "execution_count": null,
   "metadata": {},
   "outputs": [],
   "source": [
    "new_features_predicted_classes = calc_probability(new_features_normalized,\n",
    "                                                  new_classes,\n",
    "                                                  model_config=model_multi_dropouts_before45_config,\n",
    "                                                  desc=\"NDR 45 Grayscale normalized (New Images)\",\n",
    "                                                  model_name=\"ndr45_train_images_normalized_model\")"
   ]
  },
  {
   "cell_type": "markdown",
   "metadata": {},
   "source": [
    "### Analyze Performance"
   ]
  },
  {
   "cell_type": "code",
   "execution_count": null,
   "metadata": {},
   "outputs": [],
   "source": [
    "print_confusion_matrix(confusion_matrix(new_classes, new_features_predicted_classes), new_classes, order_desc=True)"
   ]
  },
  {
   "cell_type": "markdown",
   "metadata": {},
   "source": [
    "As we can see the model is able to predict correctly on newly provided images with accuracy of 100%. This is a good sign that the model performs well on real-world data."
   ]
  },
  {
   "cell_type": "markdown",
   "metadata": {},
   "source": [
    "### Output Top 5 Softmax Probabilities For Each Image Found on the Web"
   ]
  },
  {
   "cell_type": "markdown",
   "metadata": {},
   "source": [
    "For each of the new images, print out the model's softmax probabilities to show the **certainty** of the model's predictions (limit the output to the top 5 probabilities for each image). [`tf.nn.top_k`](https://www.tensorflow.org/versions/r0.12/api_docs/python/nn.html#top_k) could prove helpful here. \n",
    "\n",
    "The example below demonstrates how tf.nn.top_k can be used to find the top k predictions for each image.\n",
    "\n",
    "`tf.nn.top_k` will return the values and indices (class ids) of the top k predictions. So if k=3, for each sign, it'll return the 3 largest probabilities (out of a possible 43) and the correspoding class ids.\n",
    "\n",
    "Take this numpy array as an example. The values in the array represent predictions. The array contains softmax probabilities for five candidate images with six possible classes. `tf.nn.top_k` is used to choose the three classes with the highest probability:\n",
    "\n",
    "```\n",
    "# (5, 6) array\n",
    "a = np.array([[ 0.24879643,  0.07032244,  0.12641572,  0.34763842,  0.07893497,\n",
    "         0.12789202],\n",
    "       [ 0.28086119,  0.27569815,  0.08594638,  0.0178669 ,  0.18063401,\n",
    "         0.15899337],\n",
    "       [ 0.26076848,  0.23664738,  0.08020603,  0.07001922,  0.1134371 ,\n",
    "         0.23892179],\n",
    "       [ 0.11943333,  0.29198961,  0.02605103,  0.26234032,  0.1351348 ,\n",
    "         0.16505091],\n",
    "       [ 0.09561176,  0.34396535,  0.0643941 ,  0.16240774,  0.24206137,\n",
    "         0.09155967]])\n",
    "```\n",
    "\n",
    "Running it through `sess.run(tf.nn.top_k(tf.constant(a), k=3))` produces:\n",
    "\n",
    "```\n",
    "TopKV2(values=array([[ 0.34763842,  0.24879643,  0.12789202],\n",
    "       [ 0.28086119,  0.27569815,  0.18063401],\n",
    "       [ 0.26076848,  0.23892179,  0.23664738],\n",
    "       [ 0.29198961,  0.26234032,  0.16505091],\n",
    "       [ 0.34396535,  0.24206137,  0.16240774]]), indices=array([[3, 0, 5],\n",
    "       [0, 1, 4],\n",
    "       [0, 5, 1],\n",
    "       [1, 3, 5],\n",
    "       [1, 4, 3]], dtype=int32))\n",
    "```\n",
    "\n",
    "Looking just at the first row we get `[ 0.34763842,  0.24879643,  0.12789202]`, you can confirm these are the 3 largest probabilities in `a`. You'll also notice `[3, 0, 5]` are the corresponding indices."
   ]
  },
  {
   "cell_type": "code",
   "execution_count": null,
   "metadata": {
    "collapsed": true
   },
   "outputs": [],
   "source": [
    "def plot_top_k(in_features, in_classes, top_k):\n",
    "    rows = top_k[0].shape[0]\n",
    "    cols = top_k[0].shape[1] + 1\n",
    "\n",
    "    fig, axs = plt.subplots(rows, cols, figsize=(cols * 3, rows * 2.5))\n",
    "    fig.subplots_adjust(top=0.8)\n",
    "    axs = axs.ravel()\n",
    "    for row in range(rows):\n",
    "        for col in range(cols):\n",
    "            index = col + row * cols\n",
    "            feature = None\n",
    "            class_id = -1\n",
    "            predicted_prcnt = -1\n",
    "            if col == 0:\n",
    "                feature = in_features[row].squeeze()\n",
    "                class_id = in_classes[row]\n",
    "            else:\n",
    "                class_id = top_k[1][row][col - 1]\n",
    "                predicted_prcnt = 100 * top_k[0][row][col - 1]\n",
    "                class_indexes = np.where(y_test == class_id)[0]\n",
    "                feature = test_images_normalized[class_indexes][0].squeeze()\n",
    "            axs[index].axis('off')\n",
    "            if len(feature.shape) == 2:\n",
    "                axs[index].imshow(feature, cmap=\"gray\")\n",
    "            else:\n",
    "                axs[index].imshow(feature)\n",
    "\n",
    "            if col == 0:\n",
    "                axs[index].set_title('Original: {}'.format(class_id))\n",
    "            else:\n",
    "                axs[index].set_title('Predicted: {} ({:.0f}%)'.format(class_id, predicted_prcnt))\n",
    "    plt.show()"
   ]
  },
  {
   "cell_type": "code",
   "execution_count": null,
   "metadata": {},
   "outputs": [],
   "source": [
    "top_k_results = calc_top_k(new_features_normalized, new_classes,\n",
    "                           model_config=model_multi_dropouts_before45_config,\n",
    "                           desc=\"NDR 45 Grayscale normalized (New Images)\",\n",
    "                           model_name=\"ndr45_train_images_normalized_model\")"
   ]
  },
  {
   "cell_type": "code",
   "execution_count": null,
   "metadata": {},
   "outputs": [],
   "source": [
    "plot_top_k(new_features_normalized, new_classes, top_k_results)"
   ]
  },
  {
   "cell_type": "markdown",
   "metadata": {},
   "source": [
    "As we can see high level of certainty, along with achieving 100% accuracy, on the newly introduced real-world data is indicative of a model that performs very well."
   ]
  },
  {
   "cell_type": "markdown",
   "metadata": {},
   "source": [
    "### Project Writeup\n",
    "\n",
    "Once you have completed the code implementation, document your results in a project writeup using this [template](https://github.com/udacity/CarND-Traffic-Sign-Classifier-Project/blob/master/writeup_template.md) as a guide. The writeup can be in a markdown or pdf file. "
   ]
  },
  {
   "cell_type": "markdown",
   "metadata": {},
   "source": [
    "> **Note**: Once you have completed all of the code implementations and successfully answered each question above, you may finalize your work by exporting the iPython Notebook as an HTML document. You can do this by using the menu above and navigating to  \\n\",\n",
    "    \"**File -> Download as -> HTML (.html)**. Include the finished document along with this notebook as your submission."
   ]
  },
  {
   "cell_type": "markdown",
   "metadata": {},
   "source": [
    "---\n",
    "\n",
    "## Step 4 (Optional): Visualize the Neural Network's State with Test Images\n",
    "\n",
    " This Section is not required to complete but acts as an additional excersise for understaning the output of a neural network's weights. While neural networks can be a great learning device they are often referred to as a black box. We can understand what the weights of a neural network look like better by plotting their feature maps. After successfully training your neural network you can see what it's feature maps look like by plotting the output of the network's weight layers in response to a test stimuli image. From these plotted feature maps, it's possible to see what characteristics of an image the network finds interesting. For a sign, maybe the inner network feature maps react with high activation to the sign's boundary outline or to the contrast in the sign's painted symbol.\n",
    "\n",
    " Provided for you below is the function code that allows you to get the visualization output of any tensorflow weight layer you want. The inputs to the function should be a stimuli image, one used during training or a new one you provided, and then the tensorflow variable name that represents the layer's state during the training process, for instance if you wanted to see what the [LeNet lab's](https://classroom.udacity.com/nanodegrees/nd013/parts/fbf77062-5703-404e-b60c-95b78b2f3f9e/modules/6df7ae49-c61c-4bb2-a23e-6527e69209ec/lessons/601ae704-1035-4287-8b11-e2c2716217ad/concepts/d4aca031-508f-4e0b-b493-e7b706120f81) feature maps looked like for it's second convolutional layer you could enter conv2 as the tf_activation variable.\n",
    "\n",
    "For an example of what feature map outputs look like, check out NVIDIA's results in their paper [End-to-End Deep Learning for Self-Driving Cars](https://devblogs.nvidia.com/parallelforall/deep-learning-self-driving-cars/) in the section Visualization of internal CNN State. NVIDIA was able to show that their network's inner weights had high activations to road boundary lines by comparing feature maps from an image with a clear path to one without. Try experimenting with a similar test to show that your trained network's weights are looking for interesting features, whether it's looking at differences in feature maps from images with or without a sign, or even what feature maps look like in a trained network vs a completely untrained one on the same sign image.\n",
    "\n",
    "<figure>\n",
    " <img src=\"visualize_cnn.png\" width=\"380\" alt=\"Combined Image\" />\n",
    " <figcaption>\n",
    " <p></p> \n",
    " <p style=\"text-align: center;\"> Your output should look something like this (above)</p> \n",
    " </figcaption>\n",
    "</figure>\n",
    " <p></p> \n"
   ]
  },
  {
   "cell_type": "code",
   "execution_count": null,
   "metadata": {
    "collapsed": true
   },
   "outputs": [],
   "source": [
    "### Visualize your network's feature maps here.\n",
    "### Feel free to use as many code cells as needed.\n",
    "\n",
    "# image_input: the test image being fed into the network to produce the feature maps\n",
    "# tf_activation: should be a tf variable name used during your training procedure that represents the calculated state of a specific weight layer\n",
    "# activation_min/max: can be used to view the activation contrast in more detail, by default matplot sets min and max to the actual min and max values of the output\n",
    "# plt_num: used to plot out multiple different weight feature map sets on the same block, just extend the plt number for each new feature map entry\n",
    "\n",
    "def outputFeatureMap(sess, x, keep_prob, keep_prob_value, image_input, tf_activation, activation_min=-1,\n",
    "                     activation_max=-1, plt_num=1):\n",
    "    # Here make sure to preprocess your image_input in a way your network expects\n",
    "    # with size, normalization, ect if needed\n",
    "    # image_input =\n",
    "    # Note: x should be the same name as your network's tensorflow data placeholder variable\n",
    "    # If you get an error tf_activation is not defined it may be having trouble accessing the variable from inside a function\n",
    "    activation = tf_activation.eval(session=sess, feed_dict={x: image_input, keep_prob: keep_prob_value})\n",
    "    featuremaps = activation.shape[3]\n",
    "    plt.figure(plt_num, figsize=(15, 15))\n",
    "    for featuremap in range(featuremaps):\n",
    "        plt.subplot(6, 8, featuremap + 1)  # sets the number of feature maps to show on each row and column\n",
    "        plt.title('FeatureMap ' + str(featuremap))  # displays the feature map number\n",
    "        if activation_min != -1 & activation_max != -1:\n",
    "            plt.imshow(activation[0, :, :, featuremap], interpolation=\"nearest\", vmin=activation_min,\n",
    "                       vmax=activation_max, cmap=\"gray\")\n",
    "        elif activation_max != -1:\n",
    "            plt.imshow(activation[0, :, :, featuremap], interpolation=\"nearest\", vmax=activation_max, cmap=\"gray\")\n",
    "        elif activation_min != -1:\n",
    "            plt.imshow(activation[0, :, :, featuremap], interpolation=\"nearest\", vmin=activation_min, cmap=\"gray\")\n",
    "        else:\n",
    "            plt.imshow(activation[0, :, :, featuremap], interpolation=\"nearest\", cmap=\"gray\")\n",
    "    plt.show()"
   ]
  },
  {
   "cell_type": "code",
   "execution_count": null,
   "metadata": {
    "collapsed": true
   },
   "outputs": [],
   "source": [
    "def plot_feature_map(in_features, in_classes, model_config,\n",
    "                     keep_prob_value=1.0, load_model=True, conv_name=\"conv1\",\n",
    "                     model_name=\"lenet\", desc=None, output_dir=OUTPUT_DIRECTORY):\n",
    "    print(desc)\n",
    "\n",
    "    if desc is None:\n",
    "        desc = model_name\n",
    "\n",
    "    model_file = os.path.join(output_dir, model_name)\n",
    "\n",
    "    x, y, keep_prob, logits, training_operation, accuracy_operation, cnn_params = model_config()\n",
    "    saver = tf.train.Saver()\n",
    "\n",
    "    with tf.Session() as sess:\n",
    "        sess.run(tf.global_variables_initializer())\n",
    "        if load_model:\n",
    "            saver.restore(sess, model_file)\n",
    "        sess = tf.get_default_session()\n",
    "        outputFeatureMap(sess, x, keep_prob, keep_prob_value, in_features, cnn_params[conv_name])"
   ]
  },
  {
   "cell_type": "code",
   "execution_count": null,
   "metadata": {
    "collapsed": true
   },
   "outputs": [],
   "source": [
    "first_feature = new_features_normalized[0]\n",
    "first_feature_class = new_classes[0]"
   ]
  },
  {
   "cell_type": "code",
   "execution_count": null,
   "metadata": {},
   "outputs": [],
   "source": [
    "plot_features(np.array([first_feature.squeeze()]), np.array([first_feature_class]), squeeze=False, title=\"Input\")\n",
    "plot_feature_map(np.array([first_feature]), np.array([first_feature_class]), model_config=model_multi_dropouts_before45_config,\n",
    "                 desc=\"Untrained Model\",\n",
    "                 model_name=\"ndr45_train_images_normalized_model\", load_model=False, conv_name=\"conv1\")\n",
    "plot_feature_map(np.array([first_feature]), np.array([first_feature_class]), model_config=model_multi_dropouts_before45_config,\n",
    "                 desc=\"Trained Model\",\n",
    "                 model_name=\"ndr45_train_images_normalized_model\", conv_name=\"conv1\")"
   ]
  },
  {
   "cell_type": "markdown",
   "metadata": {},
   "source": [
    "On the first picture with untrained model we can see some noisy patterns, which can be an indicator of a network that hasn't been trained. On the second picture with trained model we can see nice and smooth patterns without any noise."
   ]
  }
 ],
 "metadata": {
  "anaconda-cloud": {},
  "kernelspec": {
   "display_name": "Python 3",
   "language": "python",
   "name": "python3"
  },
  "language_info": {
   "codemirror_mode": {
    "name": "ipython",
    "version": 3
   },
   "file_extension": ".py",
   "mimetype": "text/x-python",
   "name": "python",
   "nbconvert_exporter": "python",
   "pygments_lexer": "ipython3",
   "version": "3.5.2"
  },
  "widgets": {
   "state": {},
   "version": "1.1.2"
  }
 },
 "nbformat": 4,
 "nbformat_minor": 1
}
